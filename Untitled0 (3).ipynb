{
  "nbformat": 4,
  "nbformat_minor": 0,
  "metadata": {
    "colab": {
      "provenance": []
    },
    "kernelspec": {
      "name": "python3",
      "display_name": "Python 3"
    },
    "language_info": {
      "name": "python"
    }
  },
  "cells": [
    {
      "cell_type": "markdown",
      "source": [
        "# Statistics Advance Part 1"
      ],
      "metadata": {
        "id": "mh1lCuYdO_0j"
      }
    },
    {
      "cell_type": "markdown",
      "source": [
        "**1.** What is a random variable in probability theory?\n",
        "**ans-** A random variable is a function that assigns numerical values to the outcomes of a random experiment. It can be discrete, taking countable values (e.g., the result of a dice roll), or continuous, taking any value within a range (e.g., a person's height).  The probability distribution describes the likelihood of each possible value. Discrete random variables use a probability mass function (PMF), while continuous ones use a probability density function (PDF)."
      ],
      "metadata": {
        "id": "ITC9gp6SPIdc"
      }
    },
    {
      "cell_type": "markdown",
      "source": [
        "**2.** What are the types of random variables?\n",
        "**ans-** There are two main types of random variables:\n",
        "\n",
        "Discrete Random Variable: Takes on a countable number of distinct values. Examples include the number of heads in a coin toss or the outcome of rolling a die.\n",
        "\n",
        "Continuous Random Variable: Takes on an infinite number of possible values within a given range. Examples include the height of a person or the time it takes for a car to travel a certain distance."
      ],
      "metadata": {
        "id": "HmhWIjNkP0b2"
      }
    },
    {
      "cell_type": "markdown",
      "source": [
        "**3.**  What is the difference between discrete and continuous distributions?\n",
        "**ans-** Discrete Distribution:\n",
        "\n",
        "Deals with discrete random variables, which take countable, distinct values (e.g., integers).\n",
        "\n",
        "Probability is represented by a probability mass function (PMF), which gives the probability of each specific outcome.\n",
        "\n",
        "Example: The number of heads in 3 coin flips.\n",
        "\n",
        "Continuous Distribution:\n",
        "\n",
        "Deals with continuous random variables, which take an infinite number of values within a range (e.g., real numbers).\n",
        "\n",
        "Probability is represented by a probability density function (PDF), where the probability of any exact value is zero. Instead, probabilities are calculated over intervals.\n",
        "\n",
        "Example: The time it takes for a bus to arrive at a stop.\n",
        "\n",
        "\n",
        "\n"
      ],
      "metadata": {
        "id": "sXbsz9CiQPGd"
      }
    },
    {
      "cell_type": "markdown",
      "source": [
        "**4.** What are probability distribution functions (PDF) ?\n",
        "**ans-** A Probability Distribution Function (PDF) describes the likelihood of a random variable taking a particular value or falling within a range. For discrete random variables, the Probability Mass Function (PMF) gives the probability of each specific value. The sum of all probabilities in a discrete distribution equals 1. For continuous random variables, the Probability Density Function (PDF) defines the probability of values within a range, where the probability of any exact value is 0. Probabilities for continuous variables are computed by integrating the PDF over an interval. Both functions help describe the behavior of random variables in probability theory."
      ],
      "metadata": {
        "id": "2uXJaxIAQ6pH"
      }
    },
    {
      "cell_type": "markdown",
      "source": [
        "**5.**  How do cumulative distribution functions (CDF) differ from probability distribution functions (PDF)?\n",
        "**ans-** A Cumulative Distribution Function (CDF) and a Probability Distribution Function (PDF) are related but serve different purposes in probability theory:\n",
        "\n",
        "CDF (Cumulative Distribution Function):\n",
        "\n",
        "Describes the cumulative probability that a random variable takes a value less than or equal to a specific value.\n",
        "\n",
        "It gives the probability that the random variable is less than or equal to a certain value:\n",
        "\n",
        "For both discrete and continuous variables, the CDF is a non-decreasing function that ranges from 0 to 1.\n",
        "\n",
        "PDF (Probability Distribution Function):\n",
        "\n",
        "Describes the probability of a random variable taking a specific value (for discrete variables) or the likelihood of the variable falling within an infinitesimal range (for continuous variables).\n",
        "\n",
        "The PDF provides the shape and density of the distribution but does not directly give cumulative probabilities.\n",
        "\n",
        "For continuous variables, the PDF is used to calculate probabilities over intervals by integration"
      ],
      "metadata": {
        "id": "1i3AqEWgRNbY"
      }
    },
    {
      "cell_type": "markdown",
      "source": [
        "**6.**  What is a discrete uniform distribution?\n",
        "**ans-** A discrete uniform distribution is a probability distribution where a finite number of outcomes are equally likely to occur. Each possible value of the random variable has the same probability of occurring. It is often used when each outcome in a set has an equal chance, such as rolling a fair die.Examples include the roll of a fair die or the toss of a fair coin."
      ],
      "metadata": {
        "id": "obCYOJv1Rkw0"
      }
    },
    {
      "cell_type": "markdown",
      "source": [
        "**7.**  What are the key properties of a Bernoulli distribution?\n",
        "\n",
        "\n",
        "\n"
      ],
      "metadata": {
        "id": "QuAWWpMxR7YK"
      }
    },
    {
      "cell_type": "markdown",
      "source": [
        "**8.**  What is the binomial distribution, and how is it used in probability?\n",
        "**ans-** The binomial distribution models the number of successes in a fixed number of independent Bernoulli trials. It is used to model situations with binary outcomes, such as the number of heads in coin tosses or the number of defective items in a batch. The binomial distribution helps calculate the likelihood of different success outcomes."
      ],
      "metadata": {
        "id": "je7LMdfSTBoy"
      }
    },
    {
      "cell_type": "markdown",
      "source": [
        "**9.** What is the Poisson distribution and where is it applied?\n",
        "**ans-** The Poisson distribution is a discrete probability distribution that models the number of events occurring within a fixed interval of time or space, given the average rate at which the events happen. It is defined by a single parameter λ, which represents the average number of events in the interval.\n",
        "\n",
        "The Poisson distribution is commonly applied in fields like:\n",
        "\n",
        "Modeling the number of customer arrivals at a store.\n",
        "\n",
        "Predicting the number of phone calls at a call center.\n",
        "\n",
        "Estimating the occurrence of natural events like earthquakes or accidents."
      ],
      "metadata": {
        "id": "JSZtq4bqTdlG"
      }
    },
    {
      "cell_type": "markdown",
      "source": [
        "**10.** What is a continuous uniform distribution?\n",
        "ans-  A continuous uniform distribution is a type of probability distribution where all values in a given range are equally likely to occur. It is also called a rectangular distribution because its probability density function (PDF) is constant, forming a rectangle when graphed."
      ],
      "metadata": {
        "id": "uF9YD4lqT-aO"
      }
    },
    {
      "cell_type": "markdown",
      "source": [
        "**11.** What are the characteristics of a normal distribution?\n",
        "**ans-** The normal distribution has several key characteristics:\n",
        "\n",
        "Symmetry: The distribution is symmetric around its mean, meaning the left and right sides of the curve are mirror images.\n",
        "\n",
        "Bell-shaped Curve: It has a characteristic bell-shaped curve, with most values concentrated around the mean.\n",
        "\n",
        "Mean, Median, and Mode: All three are equal and located at the center of the distribution.\n",
        "\n",
        "Defined by Two Parameters: The normal distribution is fully characterized by its mean (\n",
        "𝜇\n",
        "μ) and standard deviation (\n",
        "𝜎\n",
        "σ).\n",
        "\n",
        "68-95-99.7 Rule: About 68% of the data falls within one standard deviation of the mean, 95% within two, and 99.7% within three."
      ],
      "metadata": {
        "id": "y0wzpARjWj0f"
      }
    },
    {
      "cell_type": "markdown",
      "source": [
        "**12.** What is the standard normal distribution, and why is it important?\n",
        "**ans-** The standard normal distribution is a special case of the normal distribution where the mean is 0 and the standard deviation is 1. The probability density function (PDF) of the standard normal distribution follows the same bell-shaped curve as any normal distribution but is specifically centered at 0 and has unit variance.\n",
        "Importance:\n",
        "\n",
        "Z-Scores: It allows for the calculation of z-scores, which indicate how many standard deviations a particular value is from the mean.\n",
        "\n",
        "Standardization: It simplifies comparisons between different normal distributions by transforming them into the same scale.\n",
        "\n",
        "Statistical Inference: The standard normal distribution is foundational in hypothesis testing, confidence intervals, and many other statistical techniques, as it is commonly used to assess probabilities.\n",
        "\n",
        "\n",
        "\n"
      ],
      "metadata": {
        "id": "CfM1-m2XW_Vx"
      }
    },
    {
      "cell_type": "markdown",
      "source": [
        "**13.** What is the Central Limit Theorem (CLT), and why is it critical in statistics?\n",
        "**ans-** The Central Limit Theorem (CLT) states that the distribution of the sample mean will approach a normal distribution, regardless of the shape of the original population distribution, as the sample size increases. This approximation becomes better with larger sample sizes, typically n≥30. The CLT is critical in statistics because it allows us to make inferences about population parameters using the normal distribution, even when the population itself is not normally distributed. It forms the foundation for hypothesis testing, confidence intervals, and many other statistical methods. The CLT ensures that normal distribution-based techniques can be applied to a wide range of data types.\n",
        "\n",
        "\n",
        "\n"
      ],
      "metadata": {
        "id": "gcEmxBsNXffW"
      }
    },
    {
      "cell_type": "markdown",
      "source": [
        "**14.** How does the Central Limit Theorem relate to the normal distribution?\n",
        "**ans-** The Central Limit Theorem (CLT) shows that as the sample size increases, the sampling distribution of the sample mean becomes approximately normal, regardless of the original population's distribution. Even if the population is not normally distributed, the distribution of the sample mean will tend to be normal if the sample size is sufficiently large (usually n≥30). The CLT makes the normal distribution a key tool in statistical inference. It allows for the use of normal distribution-based techniques, like confidence intervals and hypothesis testing, even with non-normal data. This relationship is crucial because it enables applying the normal distribution in real-world data analysis."
      ],
      "metadata": {
        "id": "t2ZLa4h7YHKu"
      }
    },
    {
      "cell_type": "markdown",
      "source": [
        "**15.**  What is the application of Z statistics in hypothesis testing?\n",
        "**ans-** Z-statistics are used in hypothesis testing to determine how far a sample statistic (like the sample mean) is from the population parameter, measured in terms of standard deviations. In hypothesis testing, the Z-score is calculated and compared to critical values from the standard normal distribution to decide whether to reject the null hypothesis. If the Z-score falls in the rejection region, the null hypothesis is rejected. Z-statistics are commonly used when the population standard deviation is known, or when the sample size is large, and the sampling distribution approximates a normal distribution. They are critical for testing hypotheses about population means or proportions. Z-tests help assess the significance of observed data in relation to expected outcomes under the null hypothesis.\n",
        "\n",
        "\n",
        "\n"
      ],
      "metadata": {
        "id": "-KwtsyP-YajZ"
      }
    },
    {
      "cell_type": "markdown",
      "source": [
        "**16.**  How do you calculate a Z-score, and what does it represent?\n",
        "**ans-** The Z-score represents how many standard deviations a data point (or sample mean) is away from the population mean. A positive Z-score indicates that the data point is above the mean, while a negative Z-score means it is below the mean. Z-scores are used to standardize values, allowing for comparisons between different data sets or distributions."
      ],
      "metadata": {
        "id": "msW09ceBYv9b"
      }
    },
    {
      "cell_type": "markdown",
      "source": [
        "**17.** What are point estimates and interval estimates in statistics?\n",
        "**ans-** Point estimates are single values used to estimate a population parameter, such as the sample mean or sample proportion, providing a best guess for the parameter's true value. For example, the sample mean\n",
        "𝑋\n",
        "ˉ\n",
        "X\n",
        "ˉ\n",
        "  is a point estimate of the population mean\n",
        "𝜇\n",
        "μ.\n",
        "\n",
        "Interval estimates provide a range of values within which the population parameter is likely to lie, with a specified level of confidence (e.g., confidence intervals). For example, a 95% confidence interval gives a range where the population parameter is expected to fall with 95% confidence, rather than a single value."
      ],
      "metadata": {
        "id": "chrimVeFZAvZ"
      }
    },
    {
      "cell_type": "markdown",
      "source": [
        "**18.** What is the significance of confidence intervals in statistical analysis?\n",
        "**ans-** Confidence intervals (CIs) are crucial in statistical analysis because they provide a range of plausible values for a population parameter, rather than a single point estimate. This range reflects the uncertainty inherent in sampling and allows researchers to make inferences with a specified level of confidence (e.g., 95%, 99%). The width of the confidence interval gives an idea of the precision of the estimate; narrower intervals suggest more precise estimates. CIs are commonly used in hypothesis testing, parameter estimation, and decision-making, helping to quantify the uncertainty and reliability of statistical results. They are essential for drawing conclusions about a population based on sample data.\n",
        "\n",
        "\n",
        "\n"
      ],
      "metadata": {
        "id": "BQKEe1y3ZY6k"
      }
    },
    {
      "cell_type": "markdown",
      "source": [
        "**19.** What is the relationship between a Z-score and a confidence interval?\n",
        "**ans-** The Z-score and a confidence interval are closely related in statistical analysis. The Z-score represents the number of standard deviations a data point (or sample mean) is away from the population mean. In the context of a confidence interval, the Z-score is used to determine the margin of error.\n",
        "\n",
        "Here’s how they are connected:\n",
        "\n",
        "The Z-score for a given confidence level (e.g., 1.96 for a 95% confidence level) is used to calculate the confidence interval around a sample statistic (like a sample mean).\n",
        "\n",
        "The confidence interval is constructed by adding and subtracting the product of the Z-score and the standard error (which is the sample standard deviation divided by the square root of the sample size) from the sample mean."
      ],
      "metadata": {
        "id": "aCnumw9OZoiD"
      }
    },
    {
      "cell_type": "markdown",
      "source": [
        "**20.**  How are Z-scores used to compare different distributions?\n",
        "**ans-** Z-scores standardize data points from different distributions, allowing for easy comparison regardless of the original scale, mean, or standard deviation. By converting raw scores into Z-scores, you express them in terms of standard deviations from the mean. This allows you to compare values from different distributions on a common scale. A Z-score shows how far a value is from the mean relative to the distribution’s variability. For example, comparing test scores from two different exams becomes easier once both are transformed into Z-scores. This standardization helps assess performance across varied distributions."
      ],
      "metadata": {
        "id": "Hz2ljUfXZ12L"
      }
    },
    {
      "cell_type": "markdown",
      "source": [
        "**21.** What are the assumptions for applying the Central Limit Theorem?\n",
        "**ans-** The Central Limit Theorem (CLT) relies on certain assumptions for its applicability:\n",
        "\n",
        "Independence: The sampled observations must be independent of each other. This means one observation should not influence another.\n",
        "\n",
        "Random Sampling: The data should come from a random sample, ensuring that every individual in the population has an equal chance of being selected.\n",
        "\n",
        "Sample Size: While the CLT holds for any sample size, larger sample sizes (typically n≥30) are preferred for the distribution of sample means to approximate normality.\n",
        "\n",
        "Finite Variance: The population from which the sample is drawn must have a finite variance (i.e., not infinite or undefined)."
      ],
      "metadata": {
        "id": "jBC34yPLaV_1"
      }
    },
    {
      "cell_type": "markdown",
      "source": [
        "**22.** What is the concept of expected value in a probability distribution?\n",
        "**ans-** The expected value (EV) in a probability distribution is the long-run average or mean of a random variable's outcomes, weighted by their probabilities. It represents the central or \"average\" value you would expect to get if an experiment were repeated many times."
      ],
      "metadata": {
        "id": "Y-022Pdyaqp_"
      }
    },
    {
      "cell_type": "markdown",
      "source": [
        "**23.**  How does a probability distribution relate to the expected outcome of a random variable?\n",
        "**ans-** A probability distribution defines how the probabilities of different outcomes are spread across all possible values of a random variable. The expected value (or mean) of a random variable, which is derived from the probability distribution, represents the average outcome you would expect from repeated trials of an experiment.\n",
        "\n",
        "Here’s the relationship:\n",
        "\n",
        "The probability distribution specifies the likelihood of each possible outcome.\n",
        "\n",
        "The expected value is a weighted average of all possible outcomes, where each outcome is multiplied by its corresponding probability."
      ],
      "metadata": {
        "id": "eUw0TrGla8K3"
      }
    },
    {
      "cell_type": "markdown",
      "source": [
        "# Practical"
      ],
      "metadata": {
        "id": "cWDAZH1vbdMP"
      }
    },
    {
      "cell_type": "markdown",
      "source": [
        "**1.** Write a Python program to generate a random variable and display its value.\n",
        "**ans-**"
      ],
      "metadata": {
        "id": "vbE5HOD9bgQg"
      }
    },
    {
      "cell_type": "code",
      "source": [
        "import random\n",
        "\n",
        "# Generate a random integer between 1 and 100\n",
        "random_variable = random.randint(1, 100)\n",
        "\n",
        "# Display the value of the random variable\n",
        "print(\"The random variable generated is:\", random_variable)\n"
      ],
      "metadata": {
        "id": "byj0rCRVd1xF"
      },
      "execution_count": null,
      "outputs": []
    },
    {
      "cell_type": "markdown",
      "source": [
        "**2.** Generate a discrete uniform distribution using Python and plot the probability mass function (PMF)."
      ],
      "metadata": {
        "id": "MnfAHWQNd7_P"
      }
    },
    {
      "cell_type": "code",
      "source": [
        "import numpy as np\n",
        "import matplotlib.pyplot as plt\n",
        "\n",
        "# Set parameters for the discrete uniform distribution\n",
        "low = 1\n",
        "high = 6\n",
        "\n",
        "# Generate random samples from a discrete uniform distribution\n",
        "samples = np.random.randint(low, high + 1, size=1000)\n",
        "\n",
        "# Calculate the frequency of each outcome\n",
        "values, counts = np.unique(samples, return_counts=True)\n",
        "\n",
        "# Normalize counts to get the PMF\n",
        "pmf = counts / counts.sum()\n",
        "\n",
        "# Plot the PMF\n",
        "plt.stem(values, pmf, use_line_collection=True)\n",
        "plt.xlabel('Value')\n",
        "plt.ylabel('Probability')\n",
        "plt.title('Probability Mass Function (PMF) of a Discrete Uniform Distribution')\n",
        "plt.xticks(values)\n",
        "plt.show()\n"
      ],
      "metadata": {
        "id": "czI49853eFWy"
      },
      "execution_count": null,
      "outputs": []
    },
    {
      "cell_type": "markdown",
      "source": [
        "**3.** Write a Python function to calculate the probability distribution function (PDF) of a Bernoulli distribution."
      ],
      "metadata": {
        "id": "7nNvzua4t57M"
      }
    },
    {
      "cell_type": "code",
      "source": [
        "def bernoulli_pdf(x, p):\n",
        "    \"\"\"\n",
        "    Calculate the Probability Distribution Function (PDF) for a Bernoulli distribution.\n",
        "\n",
        "    Parameters:\n",
        "    x (int): The outcome of the Bernoulli trial (0 or 1).\n",
        "    p (float): The probability of success (0 <= p <= 1).\n",
        "\n",
        "    Returns:\n",
        "    float: The probability P(X = x), which is either p (if x=1) or (1-p) (if x=0).\n",
        "    \"\"\"\n",
        "    if x not in [0, 1]:\n",
        "        raise ValueError(\"x must be either 0 or 1.\")\n",
        "\n",
        "    if not (0 <= p <= 1):\n",
        "        raise ValueError(\"p must be between 0 and 1.\")\n",
        "\n",
        "    return p if x == 1 else (1 - p)\n",
        "\n",
        "# Example usage\n",
        "p = 0.7  # Probability of success\n",
        "x_values = [0, 1]  # Possible outcomes (failure and success)\n",
        "\n",
        "# Calculate the PDF for both outcomes\n",
        "for x in x_values:\n",
        "    print(f\"P(X = {x}) = {bernoulli_pdf(x, p)}\")\n"
      ],
      "metadata": {
        "id": "zqXTMzWtuCfV"
      },
      "execution_count": null,
      "outputs": []
    },
    {
      "cell_type": "markdown",
      "source": [
        "**4.** Write a Python script to simulate a binomial distribution with n=10 and p=0.5, then plot its histogram."
      ],
      "metadata": {
        "id": "jcVw9nphuNwG"
      }
    },
    {
      "cell_type": "code",
      "source": [
        "import numpy as np\n",
        "import matplotlib.pyplot as plt\n",
        "\n",
        "n = 10\n",
        "p = 0.5\n",
        "size = 10000\n",
        "\n",
        "# Simulate the Binomial distribution\n",
        "samples = np.random.binomial(n, p, size)\n",
        "\n",
        "# Plot the histogram of the simulated data\n",
        "plt.hist(samples, bins=np.arange(n + 2) - 0.5, edgecolor='black', density=True)\n",
        "plt.title(f'Binomial Distribution (n={n}, p={p})')\n",
        "plt.xlabel('Number of successes')\n",
        "plt.ylabel('Probability')\n",
        "plt.xticks(np.arange(0, n + 1))\n",
        "plt.grid(True)\n",
        "plt.show()\n"
      ],
      "metadata": {
        "id": "G5Fhl-E5uVGr"
      },
      "execution_count": null,
      "outputs": []
    },
    {
      "cell_type": "markdown",
      "source": [
        "**5.**  Create a Poisson distribution and visualize it using Python."
      ],
      "metadata": {
        "id": "gjh6aeLhu2mn"
      }
    },
    {
      "cell_type": "code",
      "source": [
        "import numpy as np\n",
        "import matplotlib.pyplot as plt\n",
        "\n",
        "\n",
        "lambda_ = 5\n",
        "size = 10000\n",
        "\n",
        "# Generate random samples from a Poisson distribution\n",
        "samples = np.random.poisson(lambda_, size)\n",
        "\n",
        "# Plot the histogram of the simulated Poisson distribution\n",
        "plt.hist(samples, bins=range(0, max(samples) + 1), edgecolor='black', density=True)\n",
        "plt.title(f'Poisson Distribution (λ={lambda_})')\n",
        "plt.xlabel('Number of events')\n",
        "plt.ylabel('Probability')\n",
        "plt.grid(True)\n",
        "plt.show()\n"
      ],
      "metadata": {
        "id": "26SVSWi6vYUh"
      },
      "execution_count": null,
      "outputs": []
    },
    {
      "cell_type": "markdown",
      "source": [
        "**6.** Write a Python program to calculate and plot the cumulative distribution function (CDF) of a discrete uniform distribution."
      ],
      "metadata": {
        "id": "1zqbhFKgvjF7"
      }
    },
    {
      "cell_type": "code",
      "source": [
        "import numpy as np\n",
        "import matplotlib.pyplot as plt\n",
        "\n",
        "a = 1\n",
        "b = 6\n",
        "n = b - a + 1\n",
        "\n",
        "# Generate values for the discrete uniform distribution (a, a+1, ..., b)\n",
        "x_values = np.arange(a, b + 1)\n",
        "\n",
        "# Calculate the CDF by accumulating the probabilities\n",
        "cdf_values = np.cumsum(np.ones(n) / n)\n",
        "\n",
        "# Plot the CDF\n",
        "plt.step(x_values, cdf_values, where='post', label=\"CDF\", color='blue')\n",
        "plt.xlabel('Value')\n",
        "plt.ylabel('Cumulative Probability')\n",
        "plt.title('Cumulative Distribution Function (CDF) of a Discrete Uniform Distribution')\n",
        "plt.xticks(x_values)\n",
        "plt.grid(True)\n",
        "plt.show()\n"
      ],
      "metadata": {
        "id": "e8wgPp7cvrQZ"
      },
      "execution_count": null,
      "outputs": []
    },
    {
      "cell_type": "markdown",
      "source": [
        "**7.**  Generate a continuous uniform distribution using NumPy and visualize it."
      ],
      "metadata": {
        "id": "Lik341gVv5pU"
      }
    },
    {
      "cell_type": "code",
      "source": [
        "import numpy as np\n",
        "import matplotlib.pyplot as plt\n",
        "\n",
        "a = 0\n",
        "b = 10\n",
        "size = 10000\n",
        "\n",
        "# Generate random samples from a continuous uniform distribution\n",
        "samples = np.random.uniform(a, b, size)\n",
        "\n",
        "# Plot the histogram to visualize the distribution\n",
        "plt.hist(samples, bins=50, edgecolor='black', density=True, alpha=0.6, color='blue')\n",
        "\n",
        "# Plot the theoretical PDF for a continuous uniform distribution\n",
        "x = np.linspace(a, b, 1000)\n",
        "pdf = np.ones_like(x) / (b - a)  # The PDF of a continuous uniform distribution\n",
        "plt.plot(x, pdf, label='PDF', color='red', linewidth=2)\n",
        "\n",
        "# Add labels and title\n",
        "plt.title(f'Continuous Uniform Distribution (a={a}, b={b})')\n",
        "plt.xlabel('Value')\n",
        "plt.ylabel('Density')\n",
        "plt.legend()\n",
        "plt.grid(True)\n",
        "plt.show()\n"
      ],
      "metadata": {
        "id": "_DkQYkmJwCYk"
      },
      "execution_count": null,
      "outputs": []
    },
    {
      "cell_type": "markdown",
      "source": [
        "**8.** Simulate data from a normal distribution and plot its histogram."
      ],
      "metadata": {
        "id": "__Gt1C68wSQu"
      }
    },
    {
      "cell_type": "code",
      "source": [
        "import numpy as np\n",
        "import matplotlib.pyplot as plt\n",
        "\n",
        "mean = 0\n",
        "std_dev = 1\n",
        "size = 10000\n",
        "\n",
        "# Generate random samples from a normal distribution\n",
        "samples = np.random.normal(mean, std_dev, size)\n",
        "\n",
        "# Plot the histogram of the simulated data\n",
        "plt.hist(samples, bins=50, edgecolor='black', density=True, alpha=0.6, color='blue')\n",
        "\n",
        "# Add labels and title\n",
        "plt.title(f'Normal Distribution (mean={mean}, std_dev={std_dev})')\n",
        "plt.xlabel('Value')\n",
        "plt.ylabel('Density')\n",
        "\n",
        "# Show grid and the plot\n",
        "plt.grid(True)\n",
        "plt.show()\n"
      ],
      "metadata": {
        "id": "_TdtWsaswZ4g"
      },
      "execution_count": null,
      "outputs": []
    },
    {
      "cell_type": "markdown",
      "source": [
        "**9.** Write a Python function to calculate Z-scores from a dataset and plot them."
      ],
      "metadata": {
        "id": "e10eI98Iwq8_"
      }
    },
    {
      "cell_type": "code",
      "source": [
        "import numpy as np\n",
        "import matplotlib.pyplot as plt\n",
        "\n",
        "def calculate_z_scores(data):\n",
        "    \"\"\"\n",
        "    Calculate the Z-scores for the given dataset.\n",
        "\n",
        "    Parameters:\n",
        "    data (array-like): The input dataset (list or numpy array).\n",
        "\n",
        "    Returns:\n",
        "    numpy array: Z-scores corresponding to the input dataset.\n",
        "    \"\"\"\n",
        "    # Calculate mean and standard deviation\n",
        "    mean = np.mean(data)\n",
        "    std_dev = np.std(data)\n",
        "\n",
        "    # Calculate Z-scores\n",
        "    z_scores = (data - mean) / std_dev\n",
        "\n",
        "    return z_scores\n",
        "\n",
        "# Example dataset\n",
        "data = np.random.normal(loc=0, scale=1, size=1000)\n",
        "\n",
        "z_scores = calculate_z_scores(data)\n",
        "\n",
        "# Plot the Z-scores\n",
        "plt.plot(z_scores, color='blue', alpha=0.6)\n",
        "plt.title('Z-scores of the Dataset')\n",
        "plt.xlabel('Data Point Index')\n",
        "plt.ylabel('Z-score')\n",
        "plt.grid(True)\n",
        "plt.show()\n"
      ],
      "metadata": {
        "id": "tF86ZtfjwyY4"
      },
      "execution_count": null,
      "outputs": []
    },
    {
      "cell_type": "markdown",
      "source": [
        "**10.**  Implement the Central Limit Theorem (CLT) using Python for a non-normal distribution."
      ],
      "metadata": {
        "id": "x7FVKXRow9H2"
      }
    },
    {
      "cell_type": "code",
      "source": [],
      "metadata": {
        "id": "-77NsBldxDZZ"
      },
      "execution_count": null,
      "outputs": []
    },
    {
      "cell_type": "markdown",
      "source": [
        "**15.** Simulate multiple samples from a normal distribution and verify the Central Limit Theorem."
      ],
      "metadata": {
        "id": "21V4oy18xMZp"
      }
    },
    {
      "cell_type": "code",
      "source": [
        "import numpy as np\n",
        "import matplotlib.pyplot as plt\n",
        "\n",
        "def central_limit_theorem_normal(population_size, sample_size, num_samples, mean, std_dev):\n",
        "    \"\"\"\n",
        "    Simulate the Central Limit Theorem for a normal distribution.\n",
        "\n",
        "    Parameters:\n",
        "    - population_size (int): The number of data points in the population.\n",
        "    - sample_size (int): The size of each sample drawn from the population.\n",
        "    - num_samples (int): The number of samples to draw.\n",
        "    - mean (float): The mean of the population distribution.\n",
        "    - std_dev (float): The standard deviation of the population distribution.\n",
        "\n",
        "    Returns:\n",
        "    - sample_means (numpy array): The means of each sample.\n",
        "    \"\"\"\n",
        "    # Create a population from a normal distribution\n",
        "    population = np.random.normal(loc=mean, scale=std_dev, size=population_size)\n",
        "\n",
        "    # Draw multiple samples and calculate their means\n",
        "    sample_means = []\n",
        "    for _ in range(num_samples):\n",
        "        sample = np.random.choice(population, size=sample_size, replace=False)\n",
        "        sample_means.append(np.mean(sample))\n",
        "\n",
        "    return np.array(sample_means)\n",
        "\n",
        "# Parameters for the simulation\n",
        "population_size = 100000\n",
        "sample_size = 30\n",
        "num_samples = 1000\n",
        "mean = 50\n",
        "std_dev = 10\n",
        "\n",
        "# Simulate CLT with a normal distribution\n",
        "sample_means = central_limit_theorem_normal(population_size, sample_size, num_samples, mean, std_dev)\n",
        "\n",
        "# Plot the distribution of sample means\n",
        "plt.hist(sample_means, bins=30, edgecolor='black', density=True, alpha=0.6, color='blue')\n",
        "\n",
        "# Add labels and title\n",
        "plt.title('Central Limit Theorem for Normal Distribution')\n",
        "plt.xlabel('Sample Mean')\n",
        "plt.ylabel('Density')\n",
        "\n",
        "# Show grid and the plot\n",
        "plt.grid(True)\n",
        "plt.show()\n"
      ],
      "metadata": {
        "id": "MDY107BlxcPX"
      },
      "execution_count": null,
      "outputs": []
    },
    {
      "cell_type": "markdown",
      "source": [
        "**16.** Write a Python function to calculate and plot the standard normal distribution (mean = 0, std = 1)."
      ],
      "metadata": {
        "id": "vODwHqnSxyju"
      }
    },
    {
      "cell_type": "code",
      "source": [
        "import numpy as np\n",
        "import matplotlib.pyplot as plt\n",
        "\n",
        "def plot_standard_normal_distribution():\n",
        "    \"\"\"\n",
        "    Calculate and plot the standard normal distribution (mean=0, std=1).\n",
        "    \"\"\"\n",
        "\n",
        "    x = np.linspace(-4, 4, 1000)\n",
        "\n",
        "    # Calculate the standard normal distribution (mean=0, std=1)\n",
        "    pdf = (1/np.sqrt(2*np.pi)) * np.exp(-0.5 * x**2)\n",
        "\n",
        "    # Plot the standard normal distribution\n",
        "    plt.plot(x, pdf, label='Standard Normal Distribution', color='blue', linewidth=2)\n",
        "\n",
        "    # Add labels and title\n",
        "    plt.title('Standard Normal Distribution (mean=0, std=1)')\n",
        "    plt.xlabel('x')\n",
        "    plt.ylabel('Probability Density')\n",
        "\n",
        "    # Show grid and plot the curve\n",
        "    plt.grid(True)\n",
        "    plt.legend()\n",
        "    plt.show()\n",
        "\n",
        "# Call the function to plot the standard normal distribution\n",
        "plot_standard_normal_distribution()\n"
      ],
      "metadata": {
        "id": "QPzrA94wx6FI"
      },
      "execution_count": null,
      "outputs": []
    },
    {
      "cell_type": "markdown",
      "source": [
        "**17.** Generate random variables and calculate their corresponding probabilities using the binomial distribution."
      ],
      "metadata": {
        "id": "XFoSGlKbyJuW"
      }
    },
    {
      "cell_type": "code",
      "source": [
        "import numpy as np\n",
        "import matplotlib.pyplot as plt\n",
        "from scipy.stats import binom\n",
        "\n",
        "# Parameters\n",
        "n, p, size = 10, 0.5, 1000\n",
        "\n",
        "# Generate random variables and calculate their probabilities\n",
        "random_vars = np.random.binomial(n, p, size)\n",
        "probabilities = binom.pmf(np.arange(n+1), n, p)\n",
        "\n",
        "# Plot histogram and PMF\n",
        "plt.hist(random_vars, bins=np.arange(n+2)-0.5, density=True, alpha=0.6, color='blue', edgecolor='black')\n",
        "plt.stem(np.arange(n+1), probabilities, 'r', basefmt=\" \", use_line_collection=True)\n",
        "plt.title(f'Binomial Distribution: n={n}, p={p}')\n",
        "plt.xlabel('Number of Successes')\n",
        "plt.ylabel('Probability')\n",
        "plt.grid(True)\n",
        "plt.show()\n",
        "\n"
      ],
      "metadata": {
        "id": "O9eZudPRyRDE"
      },
      "execution_count": null,
      "outputs": []
    },
    {
      "cell_type": "markdown",
      "source": [
        "**18.** Write a Python program to calculate the Z-score for a given data point and compare it to a standard normal distribution."
      ],
      "metadata": {
        "id": "MuEsHy_Ayk7U"
      }
    },
    {
      "cell_type": "code",
      "source": [
        "import numpy as np\n",
        "from scipy.stats import norm\n",
        "import matplotlib.pyplot as plt\n",
        "\n",
        "def calculate_z_score(data_point, mean, std_dev):\n",
        "    \"\"\"Calculate the Z-score for a given data point.\"\"\"\n",
        "    return (data_point - mean) / std_dev\n",
        "\n",
        "# Example data\n",
        "data = [10, 12, 15, 18, 20, 22, 25, 30, 35, 40]\n",
        "mean = np.mean(data)\n",
        "std_dev = np.std(data)\n",
        "\n",
        "# Given data point\n",
        "data_point = 18\n",
        "\n",
        "# Calculate Z-score for the data point\n",
        "z_score = calculate_z_score(data_point, mean, std_dev)\n",
        "print(f\"Z-score for the data point {data_point}: {z_score:.2f}\")\n",
        "\n",
        "# Calculate the cumulative probability for the Z-score using standard normal distribution\n",
        "probability = norm.cdf(z_score)\n",
        "print(f\"Cumulative probability for the Z-score: {probability:.4f}\")\n",
        "\n",
        "# Plot the standard normal distribution and mark the Z-score on the plot\n",
        "x = np.linspace(-4, 4, 1000)\n",
        "y = norm.pdf(x, 0, 1)\n",
        "\n",
        "plt.plot(x, y, label=\"Standard Normal Distribution\", color='blue')\n",
        "plt.axvline(z_score, color='red', linestyle='--', label=f'Z-score = {z_score:.2f}')\n",
        "plt.title(\"Standard Normal Distribution with Z-score\")\n",
        "plt.xlabel(\"Z-value\")\n",
        "plt.ylabel(\"Probability Density\")\n",
        "plt.legend()\n",
        "plt.grid(True)\n",
        "plt.show()\n"
      ],
      "metadata": {
        "id": "it2VFliPyuDu"
      },
      "execution_count": null,
      "outputs": []
    },
    {
      "cell_type": "markdown",
      "source": [
        "**19.**  Implement hypothesis testing using Z-statistics for a sample dataset."
      ],
      "metadata": {
        "id": "hmTZ6lSuy8zb"
      }
    },
    {
      "cell_type": "code",
      "source": [
        "import numpy as np\n",
        "from scipy.stats import norm\n",
        "\n",
        "def z_test(sample_data, population_mean, population_std, alpha=0.05):\n",
        "    sample_mean = np.mean(sample_data)\n",
        "    n = len(sample_data)\n",
        "    Z = (sample_mean - population_mean) / (population_std / np.sqrt(n))\n",
        "    p_value = 2 * (1 - norm.cdf(abs(Z)))\n",
        "    return Z, p_value, \"Reject H0\" if p_value < alpha else \"Fail to reject H0\"\n",
        "\n",
        "# Example\n",
        "sample_data = [78, 82, 85, 89, 90, 92, 95, 100, 85, 88]\n",
        "Z_stat, p_value, decision = z_test(sample_data, population_mean=85, population_std=5)\n",
        "\n",
        "print(f\"Z-statistic: {Z_stat:.2f}, P-value: {p_value:.4f}, Decision: {decision}\")\n"
      ],
      "metadata": {
        "id": "27ApCFuOzQ4z"
      },
      "execution_count": null,
      "outputs": []
    },
    {
      "cell_type": "markdown",
      "source": [
        "**20.**  Create a confidence interval for a dataset using Python and interpret the result."
      ],
      "metadata": {
        "id": "y6vMF_XXzSJC"
      }
    },
    {
      "cell_type": "code",
      "source": [
        "import numpy as np\n",
        "from scipy import stats\n",
        "\n",
        "def confidence_interval(data, confidence=0.95):\n",
        "    # Sample statistics\n",
        "    n = len(data)\n",
        "    sample_mean = np.mean(data)\n",
        "    sample_std = np.std(data, ddof=1)  # Use ddof=1 for sample standard deviation\n",
        "\n",
        "    # t-statistic for the given confidence level\n",
        "    t_stat = stats.t.ppf((1 + confidence) / 2, df=n-1)  # t-value for the two-tailed test\n",
        "\n",
        "    # Margin of error\n",
        "    margin_of_error = t_stat * (sample_std / np.sqrt(n))\n",
        "\n",
        "    # Confidence interval\n",
        "    ci_lower = sample_mean - margin_of_error\n",
        "    ci_upper = sample_mean + margin_of_error\n",
        "\n",
        "    return (ci_lower, ci_upper)\n",
        "\n",
        "# Example dataset\n",
        "data = [78, 82, 85, 89, 90, 92, 95, 100, 85, 88]\n",
        "\n",
        "# Calculate the confidence interval\n",
        "ci_lower, ci_upper = confidence_interval(data)\n",
        "\n",
        "# Output the result\n",
        "print(f\"Confidence Interval: ({ci_lower:.2f}, {ci_upper:.2f})\")\n"
      ],
      "metadata": {
        "id": "DW0_zCJ6ziQT"
      },
      "execution_count": null,
      "outputs": []
    },
    {
      "cell_type": "markdown",
      "source": [
        "**21.**  Generate data from a normal distribution, then calculate and interpret the confidence interval for its mean."
      ],
      "metadata": {
        "id": "-rgd7xCkzt6M"
      }
    },
    {
      "cell_type": "code",
      "source": [
        "import numpy as np\n",
        "from scipy import stats\n",
        "\n",
        "def confidence_interval(data, confidence=0.95):\n",
        "    # Sample statistics\n",
        "    n = len(data)\n",
        "    sample_mean = np.mean(data)\n",
        "    sample_std = np.std(data, ddof=1)  # Sample standard deviation (ddof=1)\n",
        "\n",
        "    # t-statistic for the given confidence level\n",
        "    t_stat = stats.t.ppf((1 + confidence) / 2, df=n-1)  # Two-tailed test for t-statistic\n",
        "\n",
        "    # Margin of error\n",
        "    margin_of_error = t_stat * (sample_std / np.sqrt(n))\n",
        "\n",
        "    # Confidence interval\n",
        "    ci_lower = sample_mean - margin_of_error\n",
        "    ci_upper = sample_mean + margin_of_error\n",
        "\n",
        "    return (ci_lower, ci_upper)\n",
        "\n",
        "# Generate data from a normal distribution (mean=50, std=10, n=100)\n",
        "np.random.seed(0)  # For reproducibility\n",
        "data = np.random.normal(loc=50, scale=10, size=100)\n",
        "\n",
        "# Calculate the confidence interval for the mean\n",
        "ci_lower, ci_upper = confidence_interval(data)\n",
        "\n",
        "# Output the result\n",
        "print(f\"Generated Data Mean: {np.mean(data):.2f}\")\n",
        "print(f\"Confidence Interval for the mean: ({ci_lower:.2f}, {ci_upper:.2f})\")\n"
      ],
      "metadata": {
        "id": "aSSlVD41z3Zb"
      },
      "execution_count": null,
      "outputs": []
    },
    {
      "cell_type": "markdown",
      "source": [
        "**22.**  Write a Python script to calculate and visualize the probability density function (PDF) of a normal distribution.\n"
      ],
      "metadata": {
        "id": "8Jc-ETN-0Fh0"
      }
    },
    {
      "cell_type": "code",
      "source": [
        "import numpy as np\n",
        "import matplotlib.pyplot as plt\n",
        "from scipy.stats import norm\n",
        "\n",
        "# Parameters for the normal distribution\n",
        "mu = 0      # Mean\n",
        "sigma = 1   # Standard deviation\n",
        "\n",
        "# Generate a range of x values from -5 to 5\n",
        "x = np.linspace(-5, 5, 1000)\n",
        "\n",
        "# Calculate the PDF for the normal distribution\n",
        "pdf = norm.pdf(x, mu, sigma)\n",
        "\n",
        "# Plot the PDF\n",
        "plt.plot(x, pdf, label='Normal Distribution (PDF)', color='blue')\n",
        "plt.title('Probability Density Function of a Normal Distribution')\n",
        "plt.xlabel('x')\n",
        "plt.ylabel('Probability Density')\n",
        "plt.grid(True)\n",
        "plt.legend()\n",
        "plt.show()\n",
        "\n"
      ],
      "metadata": {
        "id": "L3Lgon4P0RU4"
      },
      "execution_count": null,
      "outputs": []
    },
    {
      "cell_type": "markdown",
      "source": [
        "**23.**  Use Python to calculate and interpret the cumulative distribution function (CDF) of a Poisson distribution?"
      ],
      "metadata": {
        "id": "TfGBRNK00fIE"
      }
    },
    {
      "cell_type": "code",
      "source": [
        "import numpy as np\n",
        "import matplotlib.pyplot as plt\n",
        "from scipy.stats import poisson\n",
        "\n",
        "# Parameters\n",
        "lambda_ = 3  # Average rate (mean) of occurrences\n",
        "k_values = np.arange(0, 11)  # Number of events (k), ranging from 0 to 10\n",
        "\n",
        "# Calculate Poisson CDF for each k value\n",
        "cdf_values = poisson.cdf(k_values, lambda_)\n",
        "\n",
        "# Plot the Poisson CDF\n",
        "plt.step(k_values, cdf_values, where='post', label=f'Poisson CDF (λ={lambda_})', color='blue', linewidth=2)\n",
        "plt.title('Cumulative Distribution Function of a Poisson Distribution')\n",
        "plt.xlabel('Number of Events (k)')\n",
        "plt.ylabel('Cumulative Probability')\n",
        "plt.grid(True)\n",
        "plt.xticks(k_values)\n",
        "plt.legend()\n",
        "plt.show()\n",
        "\n",
        "# Output the CDF values for each k\n",
        "for k, cdf in zip(k_values, cdf_values):\n",
        "    print(f\"P(X <= {k}) = {cdf:.4f}\")\n"
      ],
      "metadata": {
        "id": "ezrtTSna0vc0"
      },
      "execution_count": null,
      "outputs": []
    },
    {
      "cell_type": "markdown",
      "source": [
        "**24.**  Simulate a random variable using a continuous uniform distribution and calculate its expected value."
      ],
      "metadata": {
        "id": "yqW4R-FH05PP"
      }
    },
    {
      "cell_type": "code",
      "source": [
        "import numpy as np\n",
        "\n",
        "# Parameters for the uniform distribution\n",
        "a = 0  # Lower bound\n",
        "b = 10  # Upper bound\n",
        "\n",
        "# Simulate 10000 random variables from a continuous uniform distribution\n",
        "n = 10000\n",
        "random_variables = np.random.uniform(a, b, n)\n",
        "\n",
        "# Calculate the expected value (mean) from the formula\n",
        "expected_value = (a + b) / 2\n",
        "print(f\"Expected Value (Theoretical): {expected_value}\")\n",
        "\n",
        "# Calculate the sample mean from the simulated data\n",
        "sample_mean = np.mean(random_variables)\n",
        "print(f\"Sample Mean (from Simulation): {sample_mean:.4f}\")\n"
      ],
      "metadata": {
        "id": "OiUmVfxn1Akz"
      },
      "execution_count": null,
      "outputs": []
    },
    {
      "cell_type": "markdown",
      "source": [
        "**25.**  Write a Python program to compare the standard deviations of two datasets and visualize the difference."
      ],
      "metadata": {
        "id": "4NoaxwFB1Kkc"
      }
    },
    {
      "cell_type": "code",
      "source": [
        "import numpy as np\n",
        "import matplotlib.pyplot as plt\n",
        "\n",
        "# Create two sample datasets\n",
        "data1 = np.random.normal(loc=50, scale=10, size=1000)  # Mean = 50, Std = 10\n",
        "data2 = np.random.normal(loc=50, scale=5, size=1000)   # Mean = 50, Std = 5\n",
        "\n",
        "# Calculate standard deviations\n",
        "std_data1 = np.std(data1)\n",
        "std_data2 = np.std(data2)\n",
        "\n",
        "print(f\"Standard Deviation of Data1: {std_data1:.2f}\")\n",
        "print(f\"Standard Deviation of Data2: {std_data2:.2f}\")\n",
        "\n",
        "# Plot histograms to compare the spread of the data\n",
        "plt.figure(figsize=(10, 6))\n",
        "\n",
        "# Histogram for Data1\n",
        "plt.subplot(1, 2, 1)\n",
        "plt.hist(data1, bins=30, color='skyblue', edgecolor='black', alpha=0.7)\n",
        "plt.title(f\"Histogram of Data1\\nStd: {std_data1:.2f}\")\n",
        "plt.xlabel('Value')\n",
        "plt.ylabel('Frequency')\n",
        "\n",
        "# Histogram for Data2\n",
        "plt.subplot(1, 2, 2)\n",
        "plt.hist(data2, bins=30, color='lightgreen', edgecolor='black', alpha=0.7)\n",
        "plt.title(f\"Histogram of Data2\\nStd: {std_data2:.2f}\")\n",
        "plt.xlabel('Value')\n",
        "plt.ylabel('Frequency')\n",
        "\n",
        "# Show the plots\n",
        "plt.tight_layout()\n",
        "plt.show()\n"
      ],
      "metadata": {
        "id": "VFjFt2pF1Syg"
      },
      "execution_count": null,
      "outputs": []
    },
    {
      "cell_type": "markdown",
      "source": [
        "**26.** Calculate the range and interquartile range (IQR) of a dataset generated from a normal distribution.\n"
      ],
      "metadata": {
        "id": "hh1iaVyD1ccV"
      }
    },
    {
      "cell_type": "code",
      "source": [
        "import numpy as np\n",
        "\n",
        "# Parameters for the normal distribution\n",
        "mu = 50  # Mean\n",
        "sigma = 10  # Standard deviation\n",
        "n = 1000  # Number of samples\n",
        "\n",
        "# Generate dataset from a normal distribution\n",
        "data = np.random.normal(loc=mu, scale=sigma, size=n)\n",
        "\n",
        "# Calculate the range\n",
        "data_range = np.max(data) - np.min(data)\n",
        "\n",
        "# Calculate the IQR\n",
        "Q1 = np.percentile(data, 25)  # 25th percentile\n",
        "Q3 = np.percentile(data, 75)  # 75th percentile\n",
        "IQR = Q3 - Q1\n",
        "\n",
        "# Print results\n",
        "print(f\"Range: {data_range:.2f}\")\n",
        "print(f\"Interquartile Range (IQR): {IQR:.2f}\")\n"
      ],
      "metadata": {
        "id": "jLcr_Az11l-S"
      },
      "execution_count": null,
      "outputs": []
    },
    {
      "cell_type": "markdown",
      "source": [
        "**27.** Implement Z-score normalization on a dataset and visualize its transformation.\n"
      ],
      "metadata": {
        "id": "CswWuBSs1uik"
      }
    },
    {
      "cell_type": "code",
      "source": [
        "import numpy as np\n",
        "import matplotlib.pyplot as plt\n",
        "\n",
        "# Generate a sample dataset (1000 data points from a normal distribution)\n",
        "mu = 50    # Mean\n",
        "sigma = 10  # Standard deviation\n",
        "data = np.random.normal(mu, sigma, 1000)\n",
        "\n",
        "# Calculate Z-scores (Z = (X - mu) / sigma)\n",
        "mean = np.mean(data)\n",
        "std_dev = np.std(data)\n",
        "z_scores = (data - mean) / std_dev\n",
        "\n",
        "# Plot the original data and the normalized data (Z-scores)\n",
        "plt.figure(figsize=(12, 6))\n",
        "\n",
        "# Plot original data distribution\n",
        "plt.subplot(1, 2, 1)\n",
        "plt.hist(data, bins=30, color='skyblue', edgecolor='black', alpha=0.7)\n",
        "plt.title('Original Data Distribution')\n",
        "plt.xlabel('Value')\n",
        "plt.ylabel('Frequency')\n",
        "\n",
        "# Plot Z-score normalized data distribution\n",
        "plt.subplot(1, 2, 2)\n",
        "plt.hist(z_scores, bins=30, color='lightgreen', edgecolor='black', alpha=0.7)\n",
        "plt.title('Z-score Normalized Data Distribution')\n",
        "plt.xlabel('Z-score Value')\n",
        "plt.ylabel('Frequency')\n",
        "\n",
        "plt.tight_layout()\n",
        "plt.show()\n"
      ],
      "metadata": {
        "id": "GMLzoqvE14rN"
      },
      "execution_count": null,
      "outputs": []
    },
    {
      "cell_type": "markdown",
      "source": [
        "**28.** Write a Python function to calculate the skewness and kurtosis of a dataset generated from a normal distribution."
      ],
      "metadata": {
        "id": "G-lthBLN2Azs"
      }
    },
    {
      "cell_type": "code",
      "source": [
        "import numpy as np\n",
        "from scipy.stats import skew, kurtosis\n",
        "\n",
        "# Function to calculate skewness and kurtosis of a dataset\n",
        "def calculate_skewness_kurtosis(data):\n",
        "    # Calculate skewness\n",
        "    data_skewness = skew(data)\n",
        "\n",
        "    # Calculate kurtosis (default is Fisher's definition, which gives excess kurtosis)\n",
        "    data_kurtosis = kurtosis(data)\n",
        "\n",
        "    return data_skewness, data_kurtosis\n",
        "\n",
        "# Generate a dataset from a normal distribution\n",
        "mu = 50  # Mean\n",
        "sigma = 10  # Standard deviation\n",
        "n = 1000  # Number of data points\n",
        "data = np.random.normal(mu, sigma, n)\n",
        "\n",
        "# Calculate skewness and kurtosis\n",
        "skewness_value, kurtosis_value = calculate_skewness_kurtosis(data)\n",
        "\n",
        "print(f\"Skewness: {skewness_value:.4f}\")\n",
        "print(f\"Kurtosis (Excess): {kurtosis_value:.4f}\")\n"
      ],
      "metadata": {
        "id": "a0_qxqAr2HLi"
      },
      "execution_count": null,
      "outputs": []
    }
  ]
}